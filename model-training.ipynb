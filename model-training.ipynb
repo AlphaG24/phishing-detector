{
 "cells": [
  {
   "cell_type": "code",
   "execution_count": null,
   "id": "33c8ba86-9db2-4900-a254-8c786c8ad6d1",
   "metadata": {},
   "outputs": [],
   "source": [
    "model-"
   ]
  },
  {
   "cell_type": "code",
   "execution_count": 1,
   "id": "05fca0f2-2b9b-42f2-a94c-97692dc45164",
   "metadata": {},
   "outputs": [],
   "source": [
    "import pandas as pd\n",
    "import joblib\n",
    "from sklearn.model_selection import train_test_split\n",
    "from sklearn.feature_extraction.text import TfidfVectorizer\n",
    "from sklearn.linear_model import LogisticRegression\n",
    "from sklearn.metrics import accuracy_score\n"
   ]
  },
  {
   "cell_type": "code",
   "execution_count": 13,
   "id": "6eff12fc-b16b-4c3e-8fa2-0907e367270f",
   "metadata": {},
   "outputs": [
    {
     "name": "stdout",
     "output_type": "stream",
     "text": [
      "Phishing_Email.csv\n"
     ]
    }
   ],
   "source": [
    "!ls data/"
   ]
  },
  {
   "cell_type": "code",
   "execution_count": 14,
   "id": "0b00c804-c70a-4d16-807d-ff703412d28e",
   "metadata": {},
   "outputs": [],
   "source": [
    "# Corrected code with the exact filename\n",
    "df = pd.read_csv('data/Phishing_Email.csv')"
   ]
  },
  {
   "cell_type": "code",
   "execution_count": 15,
   "id": "47676d46-3dc7-4617-a263-ec32dd42a2b0",
   "metadata": {},
   "outputs": [
    {
     "name": "stdout",
     "output_type": "stream",
     "text": [
      "   Unnamed: 0                                         Email Text  \\\n",
      "0           0  re : 6 . 1100 , disc : uniformitarianism , re ...   \n",
      "1           1  the other side of * galicismos * * galicismo *...   \n",
      "2           2  re : equistar deal tickets are you still avail...   \n",
      "3           3  \\nHello I am your hot lil horny toy.\\n    I am...   \n",
      "4           4  software at incredibly low prices ( 86 % lower...   \n",
      "\n",
      "       Email Type  \n",
      "0      Safe Email  \n",
      "1      Safe Email  \n",
      "2      Safe Email  \n",
      "3  Phishing Email  \n",
      "4  Phishing Email  \n",
      "Unnamed: 0     0\n",
      "Email Text    16\n",
      "Email Type     0\n",
      "dtype: int64\n"
     ]
    }
   ],
   "source": [
    "print(df.head())\n",
    "print(df.isnull().sum())"
   ]
  },
  {
   "cell_type": "code",
   "execution_count": 16,
   "id": "e20b4fb3-fccd-4a58-861a-12894ee4f135",
   "metadata": {},
   "outputs": [
    {
     "name": "stdout",
     "output_type": "stream",
     "text": [
      "Data cleaned and split successfully!\n",
      "Training data size: 14907\n",
      "Testing data size: 3727\n"
     ]
    }
   ],
   "source": [
    "# Drop the unnecessary index column\n",
    "df.drop(columns=['Unnamed: 0'], inplace=True)\n",
    "\n",
    "# Drop rows with missing text values\n",
    "df.dropna(subset=['Email Text'], inplace=True)\n",
    "\n",
    "# Define features (X) and target (y)\n",
    "X = df['Email Text']\n",
    "y = df['Email Type']\n",
    "\n",
    "# Split the data into training and testing sets\n",
    "from sklearn.model_selection import train_test_split\n",
    "X_train, X_test, y_train, y_test = train_test_split(X, y, test_size=0.2, random_state=42)\n",
    "\n",
    "print(\"Data cleaned and split successfully!\")\n",
    "print(f\"Training data size: {len(X_train)}\")\n",
    "print(f\"Testing data size: {len(X_test)}\")"
   ]
  },
  {
   "cell_type": "code",
   "execution_count": 17,
   "id": "3e426c0a-b0ae-48c8-94b9-af75de7ddfce",
   "metadata": {},
   "outputs": [
    {
     "name": "stdout",
     "output_type": "stream",
     "text": [
      "Model Accuracy: 96.51%\n"
     ]
    }
   ],
   "source": [
    "from sklearn.feature_extraction.text import TfidfVectorizer\n",
    "from sklearn.linear_model import LogisticRegression\n",
    "from sklearn.metrics import accuracy_score\n",
    "\n",
    "# Initialize the TF-IDF Vectorizer\n",
    "vectorizer = TfidfVectorizer()\n",
    "\n",
    "# Fit the vectorizer on the training data and transform it\n",
    "X_train_tfidf = vectorizer.fit_transform(X_train)\n",
    "\n",
    "# Transform the test data using the same vectorizer\n",
    "X_test_tfidf = vectorizer.transform(X_test)\n",
    "\n",
    "# Initialize and train the Logistic Regression model\n",
    "model = LogisticRegression()\n",
    "model.fit(X_train_tfidf, y_train)\n",
    "\n",
    "# Make predictions and calculate accuracy\n",
    "predictions = model.predict(X_test_tfidf)\n",
    "accuracy = accuracy_score(y_test, predictions)\n",
    "print(f\"Model Accuracy: {accuracy * 100:.2f}%\")"
   ]
  },
  {
   "cell_type": "code",
   "execution_count": 18,
   "id": "32c10f20-ac83-4c67-8180-5c9251f07c55",
   "metadata": {},
   "outputs": [
    {
     "name": "stdout",
     "output_type": "stream",
     "text": [
      "Model and vectorizer saved successfully in your main project folder!\n"
     ]
    }
   ],
   "source": [
    "import joblib\n",
    "\n",
    "# Save the trained model\n",
    "joblib.dump(model, 'model.joblib')\n",
    "\n",
    "# Save the fitted vectorizer\n",
    "joblib.dump(vectorizer, 'vectorizer.joblib')\n",
    "\n",
    "print(\"Model and vectorizer saved successfully in your main project folder!\")"
   ]
  },
  {
   "cell_type": "code",
   "execution_count": null,
   "id": "8b188447-b6d0-4059-a2d9-8c3fad400dea",
   "metadata": {},
   "outputs": [],
   "source": []
  }
 ],
 "metadata": {
  "kernelspec": {
   "display_name": "Python 3 (ipykernel)",
   "language": "python",
   "name": "python3"
  },
  "language_info": {
   "codemirror_mode": {
    "name": "ipython",
    "version": 3
   },
   "file_extension": ".py",
   "mimetype": "text/x-python",
   "name": "python",
   "nbconvert_exporter": "python",
   "pygments_lexer": "ipython3",
   "version": "3.12.3"
  }
 },
 "nbformat": 4,
 "nbformat_minor": 5
}
